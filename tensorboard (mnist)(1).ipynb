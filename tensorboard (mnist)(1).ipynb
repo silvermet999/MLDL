{
 "cells": [
  {
   "cell_type": "markdown",
   "metadata": {},
   "source": [
    "<h2 style=\"color:blue\" align=\"center\">Tensorboard demo using handwritten digits classification using neural network</h2>"
   ]
  },
  {
   "cell_type": "markdown",
   "metadata": {},
   "source": [
    "In this notebook we will classify handwritten digits using a simple neural network which has only input and output layers. We will than add a hidden layer and see how the performance of the model improves"
   ]
  },
  {
   "cell_type": "code",
   "execution_count": 1,
   "metadata": {},
   "outputs": [
    {
     "name": "stderr",
     "output_type": "stream",
     "text": [
      "2023-03-02 03:42:28.352324: I tensorflow/core/platform/cpu_feature_guard.cc:193] This TensorFlow binary is optimized with oneAPI Deep Neural Network Library (oneDNN) to use the following CPU instructions in performance-critical operations:  AVX2 FMA\n",
      "To enable them in other operations, rebuild TensorFlow with the appropriate compiler flags.\n",
      "2023-03-02 03:42:29.622970: W tensorflow/compiler/xla/stream_executor/platform/default/dso_loader.cc:64] Could not load dynamic library 'libnvinfer.so.7'; dlerror: libnvinfer.so.7: cannot open shared object file: No such file or directory; LD_LIBRARY_PATH: :/home/ines/anaconda3/envs/tf/lib/\n",
      "2023-03-02 03:42:29.623133: W tensorflow/compiler/xla/stream_executor/platform/default/dso_loader.cc:64] Could not load dynamic library 'libnvinfer_plugin.so.7'; dlerror: libnvinfer_plugin.so.7: cannot open shared object file: No such file or directory; LD_LIBRARY_PATH: :/home/ines/anaconda3/envs/tf/lib/\n",
      "2023-03-02 03:42:29.623144: W tensorflow/compiler/tf2tensorrt/utils/py_utils.cc:38] TF-TRT Warning: Cannot dlopen some TensorRT libraries. If you would like to use Nvidia GPU with TensorRT, please make sure the missing libraries mentioned above are installed properly.\n"
     ]
    }
   ],
   "source": [
    "import tensorflow as tf\n",
    "from tensorflow import keras\n",
    "import matplotlib.pyplot as plt\n",
    "%matplotlib inline\n",
    "import numpy as np"
   ]
  },
  {
   "cell_type": "code",
   "execution_count": 2,
   "metadata": {},
   "outputs": [
    {
     "name": "stdout",
     "output_type": "stream",
     "text": [
      "Downloading data from https://storage.googleapis.com/tensorflow/tf-keras-datasets/mnist.npz\n",
      "11490434/11490434 [==============================] - 11s 1us/step\n"
     ]
    }
   ],
   "source": [
    "(X_train, y_train) , (X_test, y_test) = keras.datasets.mnist.load_data()"
   ]
  },
  {
   "cell_type": "code",
   "execution_count": 3,
   "metadata": {},
   "outputs": [
    {
     "data": {
      "text/plain": [
       "60000"
      ]
     },
     "execution_count": 3,
     "metadata": {},
     "output_type": "execute_result"
    }
   ],
   "source": [
    "len(X_train)"
   ]
  },
  {
   "cell_type": "code",
   "execution_count": 4,
   "metadata": {},
   "outputs": [
    {
     "data": {
      "text/plain": [
       "10000"
      ]
     },
     "execution_count": 4,
     "metadata": {},
     "output_type": "execute_result"
    }
   ],
   "source": [
    "len(X_test)"
   ]
  },
  {
   "cell_type": "code",
   "execution_count": 5,
   "metadata": {},
   "outputs": [
    {
     "data": {
      "text/plain": [
       "(28, 28)"
      ]
     },
     "execution_count": 5,
     "metadata": {},
     "output_type": "execute_result"
    }
   ],
   "source": [
    "X_train[0].shape"
   ]
  },
  {
   "cell_type": "code",
   "execution_count": 6,
   "metadata": {},
   "outputs": [
    {
     "data": {
      "text/plain": [
       "<matplotlib.image.AxesImage at 0x7f2ce9c1c940>"
      ]
     },
     "execution_count": 6,
     "metadata": {},
     "output_type": "execute_result"
    },
    {
     "data": {
      "image/png": "[encoded data removed]",
      "text/plain": [
       "<Figure size 288x288 with 1 Axes>"
      ]
     },
     "metadata": {
      "needs_background": "light"
     },
     "output_type": "display_data"
    }
   ],
   "source": [
    "plt.matshow(X_train[0])"
   ]
  },
  {
   "cell_type": "code",
   "execution_count": 7,
   "metadata": {},
   "outputs": [
    {
     "data": {
      "text/plain": [
       "5"
      ]
     },
     "execution_count": 7,
     "metadata": {},
     "output_type": "execute_result"
    }
   ],
   "source": [
    "y_train[0]"
   ]
  },
  {
   "cell_type": "code",
   "execution_count": 8,
   "metadata": {},
   "outputs": [],
   "source": [
    "X_train = X_train / 255\n",
    "X_test = X_test / 255"
   ]
  },
  {
   "cell_type": "code",
   "execution_count": 9,
   "metadata": {},
   "outputs": [],
   "source": [
    "X_train_flattened = X_train.reshape(len(X_train), 28*28)\n",
    "X_test_flattened = X_test.reshape(len(X_test), 28*28)"
   ]
  },
  {
   "cell_type": "code",
   "execution_count": 10,
   "metadata": {},
   "outputs": [
    {
     "data": {
      "text/plain": [
       "(60000, 784)"
      ]
     },
     "execution_count": 10,
     "metadata": {},
     "output_type": "execute_result"
    }
   ],
   "source": [
    "X_train_flattened.shape"
   ]
  },
  {
   "cell_type": "markdown",
   "metadata": {},
   "source": [
    "<h3 style='color:purple'>Using Flatten layer so that we don't have to call .reshape on input dataset</h3>"
   ]
  },
  {
   "cell_type": "code",
   "execution_count": 11,
   "metadata": {
    "scrolled": false
   },
   "outputs": [
    {
     "name": "stderr",
     "output_type": "stream",
     "text": [
      "2023-03-02 03:42:59.650454: E tensorflow/compiler/xla/stream_executor/cuda/cuda_driver.cc:267] failed call to cuInit: CUDA_ERROR_NO_DEVICE: no CUDA-capable device is detected\n",
      "2023-03-02 03:42:59.650484: I tensorflow/compiler/xla/stream_executor/cuda/cuda_diagnostics.cc:156] kernel driver does not appear to be running on this host (fedora): /proc/driver/nvidia/version does not exist\n",
      "2023-03-02 03:42:59.651029: I tensorflow/core/platform/cpu_feature_guard.cc:193] This TensorFlow binary is optimized with oneAPI Deep Neural Network Library (oneDNN) to use the following CPU instructions in performance-critical operations:  AVX2 FMA\n",
      "To enable them in other operations, rebuild TensorFlow with the appropriate compiler flags.\n"
     ]
    },
    {
     "name": "stdout",
     "output_type": "stream",
     "text": [
      "Epoch 1/5\n",
      "1875/1875 [==============================] - 4s 2ms/step - loss: 0.2722 - accuracy: 0.9210\n",
      "Epoch 2/5\n",
      "1875/1875 [==============================] - 4s 2ms/step - loss: 0.1247 - accuracy: 0.9629\n",
      "Epoch 3/5\n",
      "1875/1875 [==============================] - 4s 2ms/step - loss: 0.0879 - accuracy: 0.9737\n",
      "Epoch 4/5\n",
      "1875/1875 [==============================] - 4s 2ms/step - loss: 0.0670 - accuracy: 0.9798\n",
      "Epoch 5/5\n",
      "1875/1875 [==============================] - 3s 2ms/step - loss: 0.0546 - accuracy: 0.9832\n"
     ]
    },
    {
     "data": {
      "text/plain": [
       "<keras.callbacks.History at 0x7f2cec7358b0>"
      ]
     },
     "execution_count": 11,
     "metadata": {},
     "output_type": "execute_result"
    }
   ],
   "source": [
    "model = keras.Sequential([\n",
    "    keras.layers.Flatten(input_shape=(28, 28)),\n",
    "    keras.layers.Dense(100, activation='relu'),\n",
    "    keras.layers.Dense(10, activation='sigmoid')\n",
    "])\n",
    "\n",
    "model.compile(optimizer='adam',\n",
    "              loss='sparse_categorical_crossentropy',\n",
    "              metrics=['accuracy'])\n",
    "\n",
    "tb_callback = tf.keras.callbacks.TensorBoard(log_dir=\"logs/\", histogram_freq=1)\n",
    "\n",
    "model.fit(X_train, y_train, epochs=5, callbacks=[tb_callback])"
   ]
  },
  {
   "cell_type": "code",
   "execution_count": 12,
   "metadata": {},
   "outputs": [],
   "source": [
    "# %load_ext tensorboard\n",
    "# %tensorboard --logdir logs/fit"
   ]
  },
  {
   "cell_type": "markdown",
   "metadata": {},
   "source": [
    "Either run above inline magic or go to git bash or your command prompt and type below to run it,\n",
    "`tensorboard --logdir logs/`\n",
    "This will launch tensorboard at this url which you can open in your browser `http://localhost:6006/`"
   ]
  },
  {
   "cell_type": "code",
   "execution_count": 13,
   "metadata": {},
   "outputs": [
    {
     "data": {
      "text/plain": [
       "[array([[ 0.06683302, -0.03086295,  0.02890759, ...,  0.01406442,\n",
       "          0.07767461,  0.01893619],\n",
       "        [-0.01117591, -0.01574432,  0.03184751, ...,  0.02467813,\n",
       "         -0.0778423 , -0.04000577],\n",
       "        [-0.03867454,  0.04023566, -0.04400177, ..., -0.04496815,\n",
       "         -0.02980107, -0.00230784],\n",
       "        ...,\n",
       "        [-0.01624385, -0.04138638, -0.02752268, ...,  0.00657269,\n",
       "          0.0085503 , -0.02797749],\n",
       "        [-0.04149339,  0.04760449, -0.0416675 , ..., -0.0234024 ,\n",
       "         -0.0444087 ,  0.02889847],\n",
       "        [ 0.05322529,  0.05955327,  0.05637455, ...,  0.03334821,\n",
       "          0.03758132, -0.01176586]], dtype=float32),\n",
       " array([-0.06838273,  0.17515878,  0.05798578,  0.06896637,  0.05566559,\n",
       "         0.01345446,  0.21770483,  0.11672615,  0.04277654,  0.20778151,\n",
       "         0.10402143,  0.03257954,  0.1507949 ,  0.0533148 , -0.0862962 ,\n",
       "         0.03558668, -0.01537018, -0.05111796,  0.10128336,  0.1657435 ,\n",
       "         0.06838161,  0.04855727,  0.05821921, -0.02393137,  0.09427331,\n",
       "         0.13290462,  0.05862962,  0.01778339, -0.06848388, -0.04414858,\n",
       "         0.23276922, -0.07468951,  0.16988589,  0.17157778, -0.0073833 ,\n",
       "         0.11124208, -0.03826945,  0.12563777, -0.03713328, -0.02868865,\n",
       "         0.05944304, -0.08512887,  0.00959719,  0.03718025,  0.03029343,\n",
       "         0.02985615, -0.09233519, -0.12332655, -0.00610375, -0.01534523,\n",
       "         0.0067892 ,  0.00956232,  0.0500246 ,  0.03759891,  0.15214942,\n",
       "         0.0775919 ,  0.05215471,  0.09102258,  0.02908057, -0.12351836,\n",
       "         0.03261301, -0.02385834, -0.04053167,  0.05832734,  0.03547069,\n",
       "        -0.07729538,  0.12911661,  0.09414314, -0.04773324, -0.0565935 ,\n",
       "         0.08878602, -0.03331572, -0.0810537 ,  0.01242155, -0.01551591,\n",
       "        -0.10422225,  0.02153237,  0.03953139, -0.05637863, -0.10577199,\n",
       "        -0.06389839, -0.00997765, -0.02583634, -0.0423643 ,  0.15538374,\n",
       "        -0.00596145,  0.08918142,  0.00512283,  0.12811656, -0.19920832,\n",
       "        -0.07664282,  0.14648512,  0.01819449,  0.0906387 , -0.01384757,\n",
       "         0.03588393,  0.17674181,  0.09032708,  0.09469546,  0.0333879 ],\n",
       "       dtype=float32),\n",
       " array([[ 1.41192481e-01, -2.12768808e-01, -7.21297860e-02,\n",
       "          1.20781898e-01, -6.03530526e-01, -9.00873095e-02,\n",
       "         -1.49072617e-01, -4.10187602e-01,  1.86476752e-01,\n",
       "         -7.53659196e-03],\n",
       "        [-1.92156941e-01, -2.78064936e-01,  2.32252672e-01,\n",
       "         -5.46892658e-02, -3.83600503e-01,  4.42713290e-01,\n",
       "          3.73614818e-01,  5.88230789e-02, -2.45834783e-01,\n",
       "         -8.35592091e-01],\n",
       "        [-2.56562531e-01, -1.22409903e-01,  1.26543418e-01,\n",
       "          1.95166823e-02,  1.95925348e-02, -1.59035251e-01,\n",
       "          1.13097407e-01, -2.41873085e-01,  1.14578225e-01,\n",
       "          2.72833873e-02],\n",
       "        [ 3.14047873e-01, -2.03434110e-01,  2.25887746e-01,\n",
       "         -1.95014298e-01, -4.25678760e-01, -5.28507754e-02,\n",
       "          1.55673236e-01,  2.38798514e-01,  1.43142462e-01,\n",
       "         -2.41478160e-01],\n",
       "        [-7.03210309e-02, -7.59800225e-02,  1.94297209e-01,\n",
       "         -9.56187919e-02, -2.14466631e-01,  5.92331626e-02,\n",
       "          4.56862785e-02, -4.63082880e-01,  2.43421972e-01,\n",
       "          9.79450420e-02],\n",
       "        [-2.51580417e-01,  5.92407823e-01, -2.36046001e-01,\n",
       "         -2.01456651e-01, -3.86858396e-02, -5.90963542e-01,\n",
       "          1.20150801e-02,  4.74407077e-01,  4.75731678e-02,\n",
       "         -2.91837662e-01],\n",
       "        [ 2.04953831e-02,  1.66737512e-01, -5.05991697e-01,\n",
       "         -1.58685222e-01,  1.30954370e-01,  3.18406343e-01,\n",
       "         -3.37043017e-01,  1.17573775e-01, -2.23010913e-01,\n",
       "         -4.18349087e-01],\n",
       "        [-2.33835772e-01, -5.93435764e-02,  4.10474628e-01,\n",
       "          6.98472336e-02,  2.68115461e-01,  1.57075629e-01,\n",
       "          3.92241124e-03, -7.89684728e-02, -5.04859686e-01,\n",
       "         -4.68210459e-01],\n",
       "        [ 2.34504744e-01, -2.92351872e-01, -5.59509024e-02,\n",
       "         -4.71772738e-02, -7.01060295e-01,  9.33108777e-02,\n",
       "          1.81195170e-01,  2.05241263e-01,  2.34731317e-01,\n",
       "         -1.01297051e-01],\n",
       "        [-4.16370064e-01,  5.67871749e-01,  6.95852786e-02,\n",
       "          1.09551810e-01,  3.97806615e-01,  2.02517673e-01,\n",
       "         -5.15465081e-01,  1.84955969e-02, -4.69393522e-01,\n",
       "          6.03361102e-03],\n",
       "        [ 4.31351781e-01,  4.51092690e-01,  2.35298440e-01,\n",
       "         -5.82474351e-01,  2.59986967e-01, -4.74833995e-01,\n",
       "         -9.95590985e-02, -6.50362372e-02, -7.07618952e-01,\n",
       "          2.59631753e-01],\n",
       "        [ 9.75936744e-03, -2.65266504e-02,  7.99565464e-02,\n",
       "         -2.72920787e-01, -1.82677194e-01, -5.96049726e-01,\n",
       "          3.27758521e-01,  2.39262328e-01, -1.77459821e-01,\n",
       "         -2.15713635e-01],\n",
       "        [-3.89847845e-01,  2.61758894e-01,  3.59927937e-02,\n",
       "          6.34425804e-02,  1.04886360e-01,  1.80700570e-02,\n",
       "          1.10187948e-01,  2.28194997e-01,  2.26245642e-01,\n",
       "         -3.59659851e-01],\n",
       "        [ 5.03540412e-03,  3.72757435e-01,  3.38599652e-01,\n",
       "         -1.55118152e-01,  2.61944324e-01,  1.22287542e-01,\n",
       "          2.45321721e-01,  2.53708251e-02, -9.81499627e-02,\n",
       "         -8.29886019e-01],\n",
       "        [ 1.70649707e-01, -4.90564734e-01,  1.44635871e-01,\n",
       "          1.48227230e-01, -6.83842897e-01,  1.12666786e-01,\n",
       "         -2.85107136e-01, -2.15455189e-01,  2.39222690e-01,\n",
       "         -1.20127052e-02],\n",
       "        [-8.91125679e-01, -4.35907602e-01,  5.10783315e-01,\n",
       "         -6.94363341e-02, -3.85559469e-01,  2.17010528e-01,\n",
       "         -4.32471514e-01,  2.21906006e-01,  9.38211456e-02,\n",
       "         -4.69464660e-01],\n",
       "        [ 9.31020081e-02,  2.45965257e-01, -4.33575451e-01,\n",
       "         -2.58110046e-01, -1.58292934e-01,  4.26815808e-01,\n",
       "          3.56852114e-01,  1.12416051e-01, -1.22429736e-01,\n",
       "          3.48609149e-01],\n",
       "        [ 1.62872508e-01, -4.23433125e-01, -1.49304122e-01,\n",
       "          1.24561973e-01, -4.07644846e-02, -5.59508443e-01,\n",
       "          2.43073031e-01,  1.20646752e-01, -4.21972647e-02,\n",
       "          1.62068933e-01],\n",
       "        [-1.34993941e-01, -4.18941051e-01,  3.94375831e-01,\n",
       "          5.72223291e-02,  9.55388770e-02, -6.03891127e-02,\n",
       "          2.30175346e-01, -7.66300082e-01, -1.71023265e-01,\n",
       "          1.91382363e-01],\n",
       "        [ 3.16209078e-01, -1.01054303e-01, -7.05315620e-02,\n",
       "         -3.76516223e-01,  5.73554575e-01, -3.18581402e-01,\n",
       "         -8.06517527e-02,  7.10178912e-01, -3.53767753e-01,\n",
       "         -6.18605435e-01],\n",
       "        [ 1.49971530e-01,  4.44491535e-01,  2.03393713e-01,\n",
       "         -2.88192600e-01, -2.64610033e-02,  1.62532687e-01,\n",
       "          2.12577820e-01, -5.39432585e-01, -1.98087603e-01,\n",
       "         -1.76995173e-01],\n",
       "        [-3.03458512e-01, -1.99930713e-01,  5.54658212e-02,\n",
       "         -2.50371873e-01, -6.44961476e-01,  3.80895793e-01,\n",
       "          1.50806814e-01,  2.70705819e-01, -3.62753004e-01,\n",
       "         -5.66113353e-01],\n",
       "        [-4.39307898e-01,  4.45613891e-01, -4.16487843e-01,\n",
       "         -4.61750716e-01,  2.06676900e-01,  8.61173198e-02,\n",
       "          2.60823280e-01,  2.47571796e-01, -1.59842819e-01,\n",
       "          1.69054493e-01],\n",
       "        [-1.29823983e-01, -1.33703053e-01, -4.81207557e-02,\n",
       "          5.98844513e-02, -8.91197100e-03, -5.81915900e-02,\n",
       "          9.02211666e-02, -1.23422548e-01,  8.00101086e-02,\n",
       "         -4.63601127e-02],\n",
       "        [ 3.81702781e-02, -3.30026895e-01,  2.72266772e-02,\n",
       "         -4.69896257e-01, -1.16098216e-02, -1.54725581e-01,\n",
       "          1.14618108e-01, -2.68584043e-01,  1.16272658e-01,\n",
       "          2.91726086e-02],\n",
       "        [-2.54340857e-01,  2.13709593e-01, -6.14772201e-01,\n",
       "         -4.45540771e-02, -1.64908603e-01,  2.52911747e-01,\n",
       "         -2.54310638e-01,  1.38710484e-01,  2.45155185e-01,\n",
       "         -6.98550493e-02],\n",
       "        [-2.10633352e-01,  2.05202177e-01,  3.26844752e-01,\n",
       "         -3.71112496e-01, -3.29831570e-01, -3.27980101e-01,\n",
       "         -6.39076680e-02,  8.31998363e-02,  4.57781330e-02,\n",
       "          3.75990361e-01],\n",
       "        [-4.56204951e-01,  3.67856979e-01, -7.18702376e-02,\n",
       "          6.19570971e-01, -1.02313764e-01, -4.26161401e-02,\n",
       "         -1.58178911e-01,  3.76313180e-01, -9.30755511e-02,\n",
       "         -2.70486653e-01],\n",
       "        [-3.45161289e-01, -2.19666764e-01, -4.23309393e-02,\n",
       "          3.28811973e-01, -6.17947638e-01,  2.87377775e-01,\n",
       "         -4.62881207e-01,  3.53325337e-01,  1.12598822e-01,\n",
       "          7.45745897e-02],\n",
       "        [ 1.83948025e-01, -2.64286578e-01, -4.62578475e-01,\n",
       "         -6.18114062e-02, -1.92640424e-01, -1.47678018e-01,\n",
       "          2.26108238e-01,  1.05186537e-01, -3.29548061e-01,\n",
       "          9.04970616e-02],\n",
       "        [-3.78555469e-02,  2.94890493e-01, -1.50879845e-01,\n",
       "         -1.18696041e-01,  1.02330573e-01,  1.53467476e-01,\n",
       "         -6.01765811e-01,  7.64971823e-02, -4.39461172e-02,\n",
       "          8.76223221e-02],\n",
       "        [-3.64619762e-01, -2.30839312e-01, -2.48979464e-01,\n",
       "          3.35087568e-01, -1.00314535e-01,  2.83673227e-01,\n",
       "          2.35593215e-01, -4.84759957e-01,  2.53134847e-01,\n",
       "          1.45764038e-01],\n",
       "        [ 5.53907566e-02, -1.74717203e-01,  4.62513044e-02,\n",
       "         -5.36122262e-01,  3.10478568e-01,  3.42888474e-01,\n",
       "         -3.94731969e-01,  2.44855508e-01, -2.92425096e-01,\n",
       "          2.29172334e-01],\n",
       "        [ 5.09471148e-02,  5.84047958e-02, -3.36348921e-01,\n",
       "         -4.51894730e-01,  4.77300495e-01,  3.72308612e-01,\n",
       "         -1.58770680e-01,  1.47971079e-01, -6.31069779e-01,\n",
       "         -2.60773063e-01],\n",
       "        [ 1.91804200e-01, -3.58348101e-01,  5.15084155e-02,\n",
       "          2.25551397e-01, -2.98187345e-01,  2.97625866e-02,\n",
       "          2.05213174e-01, -5.14681935e-01,  1.79251418e-01,\n",
       "         -4.64155555e-01],\n",
       "        [-6.27588987e-01,  3.47900093e-01, -2.03900546e-01,\n",
       "          8.32908377e-02,  8.55111778e-02,  5.34674264e-02,\n",
       "          2.26538792e-01,  2.71759570e-01,  1.01731429e-02,\n",
       "          2.68517375e-01],\n",
       "        [ 1.96706310e-01, -4.05773014e-01, -1.16953433e-01,\n",
       "         -2.38242298e-02,  2.29542196e-01, -1.78141147e-01,\n",
       "         -2.03757465e-01,  7.62689188e-02,  1.88842818e-01,\n",
       "          1.56133696e-01],\n",
       "        [-7.15257347e-01,  2.26183921e-01, -2.67117649e-01,\n",
       "          2.13602677e-01,  1.56321093e-01,  2.30279744e-01,\n",
       "         -1.40175864e-01, -3.97077888e-01,  1.42357320e-01,\n",
       "         -6.99535664e-03],\n",
       "        [-5.90365410e-01,  4.49286141e-02,  4.30601537e-01,\n",
       "          2.99876124e-01, -9.84203815e-01, -3.87227386e-02,\n",
       "         -4.52340841e-01,  4.65227842e-01, -5.25932729e-01,\n",
       "         -1.04392946e+00],\n",
       "        [ 4.46159951e-02,  4.33189392e-01, -1.16661936e-01,\n",
       "          1.99627459e-01,  1.91626027e-01,  2.51442552e-01,\n",
       "         -8.76526237e-02,  3.29449140e-02, -2.58028746e-01,\n",
       "         -4.07456964e-01],\n",
       "        [ 1.50754720e-01, -3.32021713e-01, -5.84582500e-02,\n",
       "         -1.43450499e-01,  9.73536670e-02,  3.11215725e-02,\n",
       "          2.17005163e-01, -3.52066487e-01,  3.37626606e-01,\n",
       "         -3.17828476e-01],\n",
       "        [-1.19380258e-01,  7.17730960e-03, -4.70142365e-02,\n",
       "          2.46537179e-01, -3.21872383e-01,  2.88417824e-02,\n",
       "         -5.69696665e-01,  3.72807980e-02,  6.89016879e-02,\n",
       "         -1.50946498e-01],\n",
       "        [ 2.78894622e-02,  3.01808357e-01, -6.46456718e-01,\n",
       "         -1.51301041e-01,  3.95599931e-01, -4.91046458e-01,\n",
       "         -8.90654996e-02,  3.13074440e-01, -4.51806217e-01,\n",
       "          3.51352751e-01],\n",
       "        [ 1.47502437e-01,  1.14110626e-01, -8.69391024e-01,\n",
       "         -1.11800730e-01,  3.02918732e-01,  4.99189422e-02,\n",
       "          1.96841657e-01, -1.58359811e-01, -4.90621589e-02,\n",
       "         -1.57672495e-01],\n",
       "        [-5.28250217e-01, -9.52434689e-02,  6.62544370e-02,\n",
       "          1.71404351e-02, -2.13764071e-01,  3.15338701e-01,\n",
       "         -5.43173075e-01, -2.54157841e-01, -1.68822762e-02,\n",
       "         -1.01816140e-01],\n",
       "        [ 5.80582730e-02,  2.43626624e-01, -3.30874681e-01,\n",
       "         -3.04227471e-01,  2.52454311e-01,  1.86488897e-01,\n",
       "          7.04939216e-02, -1.78012401e-01,  1.03455260e-01,\n",
       "          1.57185584e-01],\n",
       "        [ 2.82531530e-02,  1.72243282e-01,  2.21846029e-01,\n",
       "          1.96008146e-01, -2.01705217e-01, -6.40494972e-02,\n",
       "         -5.19482374e-01,  3.07828695e-01,  1.07374921e-01,\n",
       "         -1.15185507e-01],\n",
       "        [ 1.22227900e-01,  2.22436547e-01,  1.76320486e-02,\n",
       "          4.50953662e-01,  2.92329371e-01, -4.89522070e-01,\n",
       "          2.79973656e-01,  3.26517932e-02, -2.02926517e-01,\n",
       "         -5.39614916e-01],\n",
       "        [ 1.65731609e-01, -2.83516943e-01,  2.17963129e-01,\n",
       "         -8.46559778e-02,  1.80406466e-01, -3.09424609e-01,\n",
       "         -2.45982364e-01,  1.42607659e-01,  1.90380380e-01,\n",
       "          1.98039085e-01],\n",
       "        [-4.95638698e-01, -2.66347770e-02, -2.19965085e-01,\n",
       "          2.81957269e-01,  2.70597339e-01,  1.46597221e-01,\n",
       "         -3.38241100e-01,  3.41265619e-01, -7.54309952e-01,\n",
       "          3.56282443e-01],\n",
       "        [-8.94261301e-02, -1.49135247e-01,  1.31925792e-01,\n",
       "          6.42461469e-03,  8.47071707e-02, -1.41584113e-01,\n",
       "          1.51542574e-01, -3.81257497e-02,  1.74826115e-01,\n",
       "          6.28406107e-02],\n",
       "        [ 2.85611778e-01, -4.11234438e-01,  2.28106812e-01,\n",
       "          1.56164533e-02, -9.21743155e-01,  2.51103103e-01,\n",
       "          1.75952584e-01, -1.09988376e-01, -2.01885425e-03,\n",
       "         -1.62074436e-02],\n",
       "        [-8.98261368e-03,  2.72754461e-01, -4.19051312e-02,\n",
       "         -2.77656585e-01,  1.06325082e-01, -2.73366898e-01,\n",
       "         -1.61170423e-01,  2.72440370e-02,  4.49589267e-02,\n",
       "         -3.29946019e-02],\n",
       "        [ 4.68897447e-02,  1.82559535e-01, -2.08388299e-01,\n",
       "          1.45205349e-01, -2.83389211e-01,  1.69827551e-01,\n",
       "          9.26444903e-02, -4.03585464e-01,  2.91609615e-01,\n",
       "          8.41759294e-02],\n",
       "        [-4.25460897e-02,  5.81721485e-01,  1.57788068e-01,\n",
       "         -4.59537387e-01,  2.16597646e-01,  7.16866180e-02,\n",
       "          2.37960350e-02,  4.19186532e-01, -5.39952278e-01,\n",
       "         -1.96621507e-01],\n",
       "        [-9.55326781e-02, -2.50969082e-01, -1.43022195e-01,\n",
       "         -1.08516395e-01,  2.50313401e-01, -5.79393022e-02,\n",
       "          1.80010647e-01,  7.39728287e-02,  1.17258079e-01,\n",
       "          1.27030119e-01],\n",
       "        [ 1.83200374e-01,  4.63856421e-02, -1.21661283e-01,\n",
       "         -7.57041723e-02, -1.89052075e-01,  1.70249362e-02,\n",
       "          9.46920067e-02, -2.66976088e-01,  1.20624840e-01,\n",
       "         -1.53962523e-01],\n",
       "        [-2.06025434e-03,  1.82542831e-01,  1.24360796e-03,\n",
       "          2.12085750e-02,  1.65729567e-01,  1.43939704e-01,\n",
       "          2.62867454e-02, -3.80289704e-01,  2.25549206e-01,\n",
       "          4.83679175e-02],\n",
       "        [ 7.16367960e-02,  4.31978643e-01, -4.51539457e-02,\n",
       "          3.06110144e-01, -7.21940577e-01,  3.10296208e-01,\n",
       "         -5.78076184e-01, -3.08503926e-01, -5.65336227e-01,\n",
       "          2.82356795e-02],\n",
       "        [-3.60489190e-01,  1.72126219e-01,  3.62794161e-01,\n",
       "          2.50437230e-01, -1.25030160e-01, -4.35585052e-01,\n",
       "         -3.78653347e-01,  3.41864824e-01,  5.22544496e-02,\n",
       "         -7.43731081e-01],\n",
       "        [ 1.27101228e-01, -1.33913413e-01,  1.84780568e-01,\n",
       "          1.95282847e-01,  1.39513239e-01,  1.41952693e-01,\n",
       "          1.07521452e-01, -2.09087312e-01,  2.47929692e-01,\n",
       "         -2.32495338e-01],\n",
       "        [ 6.07181728e-01, -1.22872889e-01,  6.58746779e-01,\n",
       "         -3.09822619e-01, -6.46921337e-01, -2.83721089e-01,\n",
       "          8.10373127e-02, -2.22956985e-01,  9.14237872e-02,\n",
       "         -5.25110900e-01],\n",
       "        [-3.72035950e-01,  3.01580012e-01,  1.70951754e-01,\n",
       "          2.45729044e-01, -5.46657681e-01,  3.31647962e-01,\n",
       "         -6.83874451e-03, -5.27081311e-01, -2.76102692e-01,\n",
       "          3.48723792e-02],\n",
       "        [-2.43172795e-01,  1.27929315e-01, -3.59842271e-01,\n",
       "         -4.31031883e-02, -7.30809987e-01,  5.80703795e-01,\n",
       "          4.35290933e-01,  1.54083923e-01, -1.12261653e-01,\n",
       "          2.07469553e-01],\n",
       "        [ 5.80026992e-02, -3.37648630e-01,  1.05873041e-01,\n",
       "         -4.54145484e-02, -5.29920459e-01, -9.10304263e-02,\n",
       "         -1.58304781e-01,  2.64848948e-01, -5.70436001e-01,\n",
       "          3.43994141e-01],\n",
       "        [ 1.57308862e-01,  8.97307843e-02,  2.09067181e-01,\n",
       "          1.01890638e-01,  5.74996211e-02, -5.05021214e-01,\n",
       "         -3.91618103e-01,  7.24119022e-02,  1.85053781e-01,\n",
       "          1.88666224e-01],\n",
       "        [-1.00245290e-01, -2.72495031e-01,  4.26082581e-01,\n",
       "         -2.65983373e-01,  7.15068877e-02, -2.64023364e-01,\n",
       "          1.75938994e-01,  1.47946760e-01, -6.49518728e-01,\n",
       "          6.72069862e-02],\n",
       "        [ 2.30375469e-01,  1.36379257e-01, -3.47330905e-02,\n",
       "          7.17208907e-02,  1.83718011e-01,  1.88199073e-01,\n",
       "          2.79811352e-01, -4.66538578e-01,  1.25212241e-02,\n",
       "         -2.77969003e-01],\n",
       "        [ 2.01687038e-01,  5.32267317e-02, -1.23857625e-01,\n",
       "          5.55175431e-02,  4.76406030e-02, -1.80785388e-01,\n",
       "         -1.16911553e-01,  9.15337801e-02,  1.81432217e-01,\n",
       "          1.10512592e-01],\n",
       "        [ 1.39400274e-01, -2.73661613e-01, -1.58902913e-01,\n",
       "          1.16391309e-01,  6.98129367e-03,  1.44926440e-02,\n",
       "         -3.82068604e-01,  2.14499518e-01,  1.65213317e-01,\n",
       "          2.04049543e-01],\n",
       "        [-1.85565174e-01, -1.08185127e-01, -3.79070520e-01,\n",
       "         -2.93773055e-01,  3.10295850e-01,  3.56655091e-01,\n",
       "          8.30880404e-02, -1.74041092e-02,  3.24373037e-01,\n",
       "         -1.08883768e-01],\n",
       "        [ 3.07794333e-01, -1.85666218e-01,  1.67370245e-01,\n",
       "         -3.02606493e-01,  3.50752801e-01, -2.77016282e-01,\n",
       "          4.08940203e-03, -2.20016822e-01, -4.80297245e-02,\n",
       "          3.52789372e-01],\n",
       "        [ 2.45112792e-01,  1.04748607e-01,  2.34139472e-01,\n",
       "          2.73384124e-01, -1.39730036e-01, -4.50833708e-01,\n",
       "          1.84862956e-01,  1.70717597e-01,  1.19700298e-01,\n",
       "          8.32939595e-02],\n",
       "        [ 1.28410921e-01,  2.10796483e-02, -2.25046411e-01,\n",
       "          2.89148897e-01, -3.20935071e-01,  3.61863911e-01,\n",
       "         -4.17409748e-01, -2.58714646e-01, -4.08746541e-01,\n",
       "          3.57152611e-01],\n",
       "        [ 1.43657461e-01,  6.84670731e-02, -6.71309594e-04,\n",
       "          5.79932407e-02,  5.89594664e-03, -6.09211147e-01,\n",
       "         -8.49213839e-01,  1.50697500e-01, -1.79409564e-01,\n",
       "          6.57215714e-02],\n",
       "        [-8.34038574e-03,  9.25293714e-02,  1.80505544e-01,\n",
       "          2.53162503e-01, -2.91188210e-01, -2.77972251e-01,\n",
       "         -7.47414082e-02, -1.98072612e-01,  8.38021636e-02,\n",
       "          2.22431481e-01],\n",
       "        [ 1.54245585e-01,  1.23174861e-01,  8.42000023e-02,\n",
       "          1.09385803e-01, -4.45835054e-01,  2.83919811e-01,\n",
       "         -6.15556836e-01,  8.88290480e-02, -6.17285026e-03,\n",
       "          6.36623353e-02],\n",
       "        [-8.02363977e-02, -4.88067657e-01,  3.20746899e-01,\n",
       "         -1.89257875e-01, -1.21654399e-01, -3.82483125e-01,\n",
       "         -2.68622369e-01,  2.70640343e-01, -2.97877640e-01,\n",
       "          2.21904993e-01],\n",
       "        [ 2.89537720e-02, -2.81699687e-01, -2.64948487e-01,\n",
       "          4.14329976e-01, -6.19440198e-01, -3.72036606e-01,\n",
       "          3.23240429e-01,  3.33514214e-01, -2.92327315e-01,\n",
       "          1.30085945e-01],\n",
       "        [ 2.40125999e-01, -9.43313777e-01, -3.16850424e-01,\n",
       "          1.70234337e-01, -1.95965812e-01,  4.02606390e-02,\n",
       "          1.21245645e-01, -1.60715878e-01,  2.21748456e-01,\n",
       "          1.22910537e-01],\n",
       "        [-2.80565023e-01,  3.11628491e-01,  1.66861102e-01,\n",
       "          1.93667874e-01, -5.62981427e-01, -2.15735231e-02,\n",
       "         -3.07452947e-01,  2.29933441e-01,  1.59617722e-01,\n",
       "         -6.03927076e-02],\n",
       "        [-3.72178614e-01,  1.10812508e-01,  1.33697633e-02,\n",
       "          3.78413089e-02,  1.42038628e-01, -3.25078666e-01,\n",
       "         -5.41636825e-01, -6.63605630e-02,  2.01873899e-01,\n",
       "          8.81756321e-02],\n",
       "        [ 1.96507603e-01, -2.49033570e-01,  2.45780006e-01,\n",
       "         -1.35329083e-01,  1.77338600e-01, -5.63150465e-01,\n",
       "          6.71229735e-02,  3.06982458e-01, -7.80157149e-02,\n",
       "         -7.31572434e-02],\n",
       "        [-7.45586097e-01, -6.20002270e-01, -3.11107934e-01,\n",
       "          4.30377692e-01,  2.20710397e-01,  2.57495105e-01,\n",
       "         -6.50069833e-01, -1.81270584e-01, -3.12754095e-01,\n",
       "          3.01907510e-01],\n",
       "        [-2.68259227e-01, -3.63772102e-02,  1.36802346e-01,\n",
       "         -2.18615741e-01,  1.52229536e-02,  2.00704023e-01,\n",
       "         -6.51940051e-03, -6.26936257e-01,  9.06671584e-03,\n",
       "         -3.39216888e-02],\n",
       "        [-1.98241562e-01,  2.05210805e-01, -4.77220304e-02,\n",
       "          2.10155472e-01,  2.30306596e-01, -4.68581140e-01,\n",
       "         -8.30576271e-02, -1.82277307e-01,  4.65631001e-02,\n",
       "          2.35692084e-01],\n",
       "        [-2.12569341e-01,  2.86276639e-01,  2.30426669e-01,\n",
       "         -3.77065152e-01,  2.41531596e-01, -6.21786714e-01,\n",
       "         -7.24586606e-01,  1.70235746e-02, -2.99346507e-01,\n",
       "          3.74223560e-01],\n",
       "        [-4.42356430e-02, -4.14127931e-02,  3.58341560e-02,\n",
       "          1.35607481e-01, -1.04878053e-01, -2.87624616e-02,\n",
       "          2.01034188e-01, -1.37123555e-01,  2.44317606e-01,\n",
       "         -1.34583311e-02],\n",
       "        [-5.30409589e-02, -6.35879755e-01,  7.61540458e-02,\n",
       "          2.01920141e-02,  8.68475735e-02,  1.29629701e-01,\n",
       "         -7.22941458e-01,  1.25441372e-01, -7.47972503e-02,\n",
       "          4.96652722e-02],\n",
       "        [ 3.42279106e-01,  5.55741377e-02,  2.54537076e-01,\n",
       "          8.46552942e-03, -7.13408411e-01, -4.30409759e-01,\n",
       "         -3.17805260e-01, -3.09353601e-02, -2.96669096e-01,\n",
       "          1.48055568e-01],\n",
       "        [ 1.95778668e-01, -1.52981076e-02,  1.65723264e-01,\n",
       "          2.30588049e-01,  2.82791197e-01, -1.37020946e-01,\n",
       "         -1.11178547e-01,  1.77980751e-01, -3.44020188e-01,\n",
       "         -2.50880539e-01],\n",
       "        [ 3.54950875e-01, -2.38146191e-03,  2.23427176e-01,\n",
       "          6.58567026e-02, -4.76316333e-01,  2.95721024e-01,\n",
       "          1.30942985e-01, -1.08090110e-01, -5.20713687e-01,\n",
       "          6.61390424e-02],\n",
       "        [-3.88806731e-01,  1.31844983e-01,  1.98733985e-01,\n",
       "         -2.73346514e-01, -1.08977579e-01, -3.33526760e-01,\n",
       "         -2.15464178e-02,  1.61409855e-01,  4.33870316e-01,\n",
       "         -6.91768348e-01],\n",
       "        [ 1.47246802e-02, -2.68629733e-02,  4.56651859e-02,\n",
       "         -6.43249214e-01,  2.76247859e-01,  5.91915548e-02,\n",
       "          3.65094662e-01,  4.78817225e-02,  2.87318796e-01,\n",
       "         -1.03180990e-01],\n",
       "        [-9.69004929e-02, -3.91544625e-02, -1.35991991e-01,\n",
       "          2.00754344e-01, -2.15186551e-01, -7.66748786e-02,\n",
       "         -1.33140951e-01,  5.61526418e-02,  1.67448476e-01,\n",
       "         -8.79994035e-02],\n",
       "        [-3.45850527e-01,  6.12628281e-01, -1.29741028e-01,\n",
       "          3.67214195e-02,  5.42840302e-01, -4.00240570e-01,\n",
       "          5.57042696e-02,  2.71004960e-02, -3.44835192e-01,\n",
       "         -6.47941053e-01],\n",
       "        [-2.59210497e-01,  4.25128788e-02, -4.02234554e-01,\n",
       "         -7.51810610e-01,  4.10896447e-03,  2.47648925e-01,\n",
       "          3.90007138e-01, -1.96066529e-01,  1.30028322e-01,\n",
       "          2.47487590e-01],\n",
       "        [-9.54694033e-01, -3.74511689e-01, -3.77035767e-01,\n",
       "          4.02264297e-01,  2.30406240e-01, -1.42640062e-02,\n",
       "         -7.21732140e-01, -4.10031565e-02, -2.87789181e-02,\n",
       "          2.10584685e-01],\n",
       "        [ 3.06347132e-01, -5.97751617e-01, -4.38339263e-01,\n",
       "          1.87213019e-01, -3.82081866e-01,  4.91445452e-01,\n",
       "          4.72684810e-03, -3.05700749e-01, -5.06681837e-02,\n",
       "          2.29484662e-01],\n",
       "        [-3.67505103e-01, -4.24227327e-01,  7.18489289e-02,\n",
       "          2.75818706e-01, -2.67049093e-02,  2.13084295e-01,\n",
       "         -3.70101690e-01,  2.57226706e-01, -9.12131816e-02,\n",
       "         -2.27328122e-01]], dtype=float32),\n",
       " array([-0.17120731,  0.02065088, -0.0159549 , -0.12087733,  0.08835085,\n",
       "         0.1135644 , -0.02324063, -0.07085162,  0.1579677 , -0.03969128],\n",
       "       dtype=float32)]"
      ]
     },
     "execution_count": 13,
     "metadata": {},
     "output_type": "execute_result"
    }
   ],
   "source": [
    "model.get_weights()"
   ]
  },
  {
   "cell_type": "code",
   "execution_count": 14,
   "metadata": {},
   "outputs": [],
   "source": [
    "\n",
    "\n",
    "tf.keras.backend.clear_session()\n"
   ]
  },
  {
   "cell_type": "code",
   "execution_count": null,
   "metadata": {},
   "outputs": [],
   "source": []
  }
 ],
 "metadata": {
  "kernelspec": {
   "display_name": "Python 3 (ipykernel)",
   "language": "python",
   "name": "python3"
  },
  "language_info": {
   "codemirror_mode": {
    "name": "ipython",
    "version": 3
   },
   "file_extension": ".py",
   "mimetype": "text/x-python",
   "name": "python",
   "nbconvert_exporter": "python",
   "pygments_lexer": "ipython3",
   "version": "3.9.15"
  }
 },
 "nbformat": 4,
 "nbformat_minor": 4
}
